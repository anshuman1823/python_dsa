{
 "cells": [
  {
   "cell_type": "markdown",
   "id": "7d84534b-c3d8-4d29-b124-02567bc39dc1",
   "metadata": {},
   "source": [
    "# Lexicographic Permutations generator"
   ]
  },
  {
   "cell_type": "markdown",
   "id": "8ba13431-3a36-4341-b290-de92cf1677d4",
   "metadata": {},
   "source": [
    "This algorithm will generate all possible lexicographic permutations of alphabets in increasing order"
   ]
  },
  {
   "cell_type": "code",
   "execution_count": 50,
   "id": "206da18b-a534-4f5c-b1b7-1fdc783bc463",
   "metadata": {},
   "outputs": [],
   "source": [
    "def lex_gen():\n",
    "    \"\"\"\n",
    "    This algorithm will take input a sequence of alphabets and then generate all possible lexicographic\n",
    "    permutations of those alphabets in an increasing order.\n",
    "    \"\"\"\n",
    "    \n",
    "    ## Taking the sequence as inputs\n",
    "    inputs = []\n",
    "    len_inputs = int(input(\"Enter the length of the sequence\"))\n",
    "    for i in range(len_inputs):\n",
    "        alph = input(\"Enter s.no. {} alphabet\".format(str(i)))\n",
    "        inputs.append(alph)\n",
    "    print(\"Your input is: \" + str(inputs))\n",
    "\n",
    "    ## Arranging the sequence in ascending order using insertion sort\n",
    "    def ins_sort(x, l, r):\n",
    "        \"\"\"\n",
    "        Implementing insertion sort on the list x inplace starting from index l and upto index r (both inclusive)\n",
    "        \"\"\"\n",
    "        for pos in range(l+1,r+1):\n",
    "            i = pos\n",
    "            while (x[i] < x[i-1]) and (i > l):\n",
    "                x[i], x[i-1] = x[i-1], x[i]\n",
    "                i -= 1\n",
    "        # print(x)\n",
    "    \n",
    "    ins_sort(inputs, 0, len(inputs)-1)   ## Implementing insertion sort on the input sequence\n",
    "    print(inputs)\n",
    "    ## Implementing the generator\n",
    "    for i in range(6):\n",
    "        pos = len_inputs - 1\n",
    "        while (inputs[pos] < inputs[pos-1]) and (pos>0): ## Finding the length of the longest suffix that can't be modified\n",
    "            pos -= 1\n",
    "        for i in range(pos, len_inputs):    ## Swapping the pos-1 element with the next larger element from the suffix\n",
    "            if inputs[pos-1] < inputs[i]:\n",
    "                inputs[pos-1], inputs[i] = inputs[i], inputs[pos-1]\n",
    "        ins_sort(inputs,pos,len_inputs-1)  ## Sorting this suffix in increasing order\n",
    "        print(inputs)"
   ]
  },
  {
   "cell_type": "code",
   "execution_count": 51,
   "id": "298f96fb-c9a8-47f8-a026-1a3f616ee7f6",
   "metadata": {},
   "outputs": [
    {
     "name": "stdin",
     "output_type": "stream",
     "text": [
      "Enter the length of the sequence 3\n",
      "Enter s.no. 0 alphabet r\n",
      "Enter s.no. 1 alphabet a\n",
      "Enter s.no. 2 alphabet n\n"
     ]
    },
    {
     "name": "stdout",
     "output_type": "stream",
     "text": [
      "Your input is: ['r', 'a', 'n']\n",
      "['a', 'n', 'r']\n",
      "['a', 'r', 'n']\n",
      "['r', 'a', 'n']\n",
      "['r', 'n', 'a']\n",
      "['a', 'n', 'r']\n",
      "['a', 'r', 'n']\n",
      "['r', 'a', 'n']\n"
     ]
    }
   ],
   "source": [
    "lex_gen()"
   ]
  },
  {
   "cell_type": "code",
   "execution_count": null,
   "id": "c81aab9c-2aa8-472c-ad21-5b030ddda4d6",
   "metadata": {},
   "outputs": [],
   "source": []
  },
  {
   "cell_type": "code",
   "execution_count": null,
   "id": "bc9cefb0-2939-42a1-b4cd-9ef9bc6d2290",
   "metadata": {},
   "outputs": [],
   "source": []
  },
  {
   "cell_type": "code",
   "execution_count": 28,
   "id": "10cc425d-0e32-4efe-8644-ee5015984b43",
   "metadata": {},
   "outputs": [],
   "source": [
    "def ins_sort(x, l, r):\n",
    "    \"\"\"\n",
    "    Implementing insertion sort on the list x inplace starting from index l and upto index r (both inclusive)\n",
    "    \"\"\"\n",
    "    for pos in range(l+1,r+1):\n",
    "        i = pos\n",
    "        while (x[i] < x[i-1]) and (i > l):\n",
    "            x[i], x[i-1] = x[i-1], x[i]\n",
    "            i -= 1\n",
    "    print(x)"
   ]
  },
  {
   "cell_type": "code",
   "execution_count": 30,
   "id": "5c872460-9017-49e0-8bae-856dd755eb80",
   "metadata": {},
   "outputs": [
    {
     "name": "stdout",
     "output_type": "stream",
     "text": [
      "[9, 8, 1, 2, 3, 4, 5, 6, 7]\n"
     ]
    }
   ],
   "source": [
    "ins_sort([9,8,7,6,5,4,3,2,1],2,8)"
   ]
  },
  {
   "cell_type": "code",
   "execution_count": null,
   "id": "7bbc9e65-2288-4496-b508-5b3cc61cfacb",
   "metadata": {},
   "outputs": [],
   "source": []
  },
  {
   "cell_type": "code",
   "execution_count": null,
   "id": "c7f481e3-a1e4-4efe-97ef-3b24c0bc487c",
   "metadata": {},
   "outputs": [],
   "source": []
  }
 ],
 "metadata": {
  "kernelspec": {
   "display_name": "Python 3 (ipykernel)",
   "language": "python",
   "name": "python3"
  },
  "language_info": {
   "codemirror_mode": {
    "name": "ipython",
    "version": 3
   },
   "file_extension": ".py",
   "mimetype": "text/x-python",
   "name": "python",
   "nbconvert_exporter": "python",
   "pygments_lexer": "ipython3",
   "version": "3.11.5"
  }
 },
 "nbformat": 4,
 "nbformat_minor": 5
}
