{
 "cells": [
  {
   "cell_type": "markdown",
   "id": "9cb31b4a",
   "metadata": {},
   "source": [
    "# Linear Scan "
   ]
  },
  {
   "cell_type": "markdown",
   "id": "6fcb0bb8",
   "metadata": {},
   "source": [
    "Finding an element i in an unsorted list"
   ]
  },
  {
   "cell_type": "code",
   "execution_count": 2,
   "id": "c8d8243d",
   "metadata": {},
   "outputs": [],
   "source": [
    "def linear_scan(l, i):\n",
    "    \"\"\"\n",
    "    Finding the index of element i in list l. Return -1 if element not present in the list\n",
    "    \"\"\"\n",
    "    \n",
    "    for ind in range(len(l)):\n",
    "        if l[ind] == i:\n",
    "            return ind\n",
    "            break\n",
    "        else:\n",
    "            continue\n",
    "    else:\n",
    "        return -1"
   ]
  },
  {
   "cell_type": "markdown",
   "id": "f4bd9403",
   "metadata": {},
   "source": [
    "The time complexity of this algorithm is O(n) as in the worst case you have to scan the entire array to find the element."
   ]
  },
  {
   "cell_type": "code",
   "execution_count": null,
   "id": "2366647e",
   "metadata": {},
   "outputs": [],
   "source": []
  }
 ],
 "metadata": {
  "kernelspec": {
   "display_name": "Python 3 (ipykernel)",
   "language": "python",
   "name": "python3"
  },
  "language_info": {
   "codemirror_mode": {
    "name": "ipython",
    "version": 3
   },
   "file_extension": ".py",
   "mimetype": "text/x-python",
   "name": "python",
   "nbconvert_exporter": "python",
   "pygments_lexer": "ipython3",
   "version": "3.11.5"
  }
 },
 "nbformat": 4,
 "nbformat_minor": 5
}
