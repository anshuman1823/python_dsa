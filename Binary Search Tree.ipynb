{
 "cells": [
  {
   "cell_type": "markdown",
   "id": "ba7f4574",
   "metadata": {},
   "source": [
    "Implementation of Binary Search Trees"
   ]
  },
  {
   "cell_type": "code",
   "execution_count": 264,
   "id": "c29c1c16",
   "metadata": {},
   "outputs": [],
   "source": [
    "import random"
   ]
  },
  {
   "cell_type": "code",
   "execution_count": 436,
   "id": "c2ec3947",
   "metadata": {},
   "outputs": [],
   "source": [
    "class bst_node():\n",
    "    \n",
    "    def __init__(self, initval = None):\n",
    "        if initval == None:\n",
    "            self.value = None\n",
    "            self.left = None\n",
    "            self.right = None\n",
    "        else:\n",
    "            self.value = initval\n",
    "            self.left = bst_node()\n",
    "            self.right = bst_node()\n",
    "\n",
    "    def is_empty(self):\n",
    "        if self.value == None:\n",
    "            return True\n",
    "        else:\n",
    "            return False\n",
    "            \n",
    "    def io_traverse(self):\n",
    "        if self.is_empty():\n",
    "            return []\n",
    "        else:\n",
    "            return (self.left.io_traverse() + [self.value] + self.right.io_traverse())\n",
    "    \n",
    "    def __str__(self):\n",
    "        return str(self.io_traverse())\n",
    "    \n",
    "    def __len__(self):\n",
    "        return len(self.io_traverse())\n",
    "    \n",
    "    def list_gen(self):\n",
    "        return self.io_traverse()\n",
    "    \n",
    "    def find(self, v):\n",
    "        if self.is_empty():\n",
    "            return []\n",
    "        elif v == self.value:\n",
    "            return self\n",
    "        elif v < self.value:\n",
    "            return self.left.find(v)\n",
    "        elif v > self.value:\n",
    "            return self.right.find(v)\n",
    "    \n",
    "    def insert(self, v):\n",
    "        if self.is_empty():\n",
    "            self.value = v\n",
    "            self.left = bst_node()\n",
    "            self.right = bst_node()\n",
    "        elif v < self.value:\n",
    "            self.left.insert(v)\n",
    "        elif v > self.value:\n",
    "            self.right.insert(v)\n",
    "        elif v == self.value:\n",
    "            return    \n",
    "    \n",
    "    def maximum(self):\n",
    "        if self.right.is_empty():\n",
    "            return self\n",
    "        else:\n",
    "            return self.right.maximum()\n",
    "    \n",
    "    def delete(self, v):\n",
    "        if self.is_empty():\n",
    "            return\n",
    "        elif v < self.value:\n",
    "            return self.left.delete(v)\n",
    "        elif v > self.value:\n",
    "            return self.right.delete(v)\n",
    "        elif v == self.value:\n",
    "            if self.left.is_empty():\n",
    "                if self.right.is_empty():\n",
    "                    self.value = None\n",
    "                    self.left = None\n",
    "                    self.right = None\n",
    "                else:\n",
    "                    self.value = self.right.value\n",
    "                    self.right = self.right.right\n",
    "                    self.left = self.right.left\n",
    "                    return\n",
    "            else:\n",
    "                self.value = self.left.maximum().value\n",
    "                (self.left.maximum()).delete((self.left.maximum()).value)"
   ]
  },
  {
   "cell_type": "code",
   "execution_count": 437,
   "id": "1abfb757",
   "metadata": {},
   "outputs": [],
   "source": [
    "bst = bst_node(50)"
   ]
  },
  {
   "cell_type": "code",
   "execution_count": 438,
   "id": "ce96c822",
   "metadata": {},
   "outputs": [],
   "source": [
    "for i in range(10):\n",
    "    bst.insert(random.randrange(1, 100))"
   ]
  },
  {
   "cell_type": "code",
   "execution_count": 439,
   "id": "610f445b",
   "metadata": {},
   "outputs": [
    {
     "name": "stdout",
     "output_type": "stream",
     "text": [
      "[4, 11, 27, 38, 39, 50, 51, 54, 59, 79]\n"
     ]
    }
   ],
   "source": [
    "print(bst)"
   ]
  },
  {
   "cell_type": "code",
   "execution_count": 440,
   "id": "1caf2075",
   "metadata": {},
   "outputs": [
    {
     "data": {
      "text/plain": [
       "10"
      ]
     },
     "execution_count": 440,
     "metadata": {},
     "output_type": "execute_result"
    }
   ],
   "source": [
    "len(bst)"
   ]
  },
  {
   "cell_type": "code",
   "execution_count": 441,
   "id": "e07ab5c4",
   "metadata": {},
   "outputs": [],
   "source": [
    "bst.delete(96)"
   ]
  },
  {
   "cell_type": "code",
   "execution_count": 442,
   "id": "d6926ac8",
   "metadata": {},
   "outputs": [
    {
     "name": "stdout",
     "output_type": "stream",
     "text": [
      "[4, 11, 27, 38, 39, 50, 51, 54, 59, 79]\n"
     ]
    }
   ],
   "source": [
    "print(bst)"
   ]
  },
  {
   "cell_type": "code",
   "execution_count": 443,
   "id": "ffb26614",
   "metadata": {},
   "outputs": [
    {
     "name": "stdout",
     "output_type": "stream",
     "text": [
      "Before deletion  [4, 11, 27, 38, 39, 50, 51, 54, 59, 79]\n",
      "Item to be deleted from the list:  50\n",
      "After deletion  [4, 11, 27, 38, 39, 51, 54, 59, 79] \n",
      "\n",
      "Before deletion  [4, 11, 27, 38, 39, 51, 54, 59, 79]\n",
      "Item to be deleted from the list:  27\n",
      "After deletion  [4, 11, 38, 39, 51, 54, 59, 79] \n",
      "\n",
      "Before deletion  [4, 11, 38, 39, 51, 54, 59, 79]\n",
      "Item to be deleted from the list:  59\n",
      "After deletion  [4, 11, 38, 39, 51, 54, 79] \n",
      "\n",
      "Before deletion  [4, 11, 38, 39, 51, 54, 79]\n",
      "Item to be deleted from the list:  11\n",
      "After deletion  [4, 38, 39, 51, 54, 79] \n",
      "\n",
      "Before deletion  [4, 38, 39, 51, 54, 79]\n",
      "Item to be deleted from the list:  79\n",
      "After deletion  [4, 38, 39, 51, 54] \n",
      "\n",
      "Before deletion  [4, 38, 39, 51, 54]\n",
      "Item to be deleted from the list:  4\n",
      "After deletion  "
     ]
    },
    {
     "ename": "AttributeError",
     "evalue": "'NoneType' object has no attribute 'io_traverse'",
     "output_type": "error",
     "traceback": [
      "\u001b[0;31m---------------------------------------------------------------------------\u001b[0m",
      "\u001b[0;31mAttributeError\u001b[0m                            Traceback (most recent call last)",
      "Cell \u001b[0;32mIn[443], line 9\u001b[0m\n\u001b[1;32m      7\u001b[0m \u001b[38;5;28mprint\u001b[39m(\u001b[38;5;124m\"\u001b[39m\u001b[38;5;124mItem to be deleted from the list: \u001b[39m\u001b[38;5;124m\"\u001b[39m, item)\n\u001b[1;32m      8\u001b[0m bst\u001b[38;5;241m.\u001b[39mdelete(item)\n\u001b[0;32m----> 9\u001b[0m \u001b[38;5;28mprint\u001b[39m(\u001b[38;5;124m\"\u001b[39m\u001b[38;5;124mAfter deletion \u001b[39m\u001b[38;5;124m\"\u001b[39m, bst, \u001b[38;5;124m\"\u001b[39m\u001b[38;5;130;01m\\n\u001b[39;00m\u001b[38;5;124m\"\u001b[39m)\n",
      "Cell \u001b[0;32mIn[436], line 26\u001b[0m, in \u001b[0;36mbst_node.__str__\u001b[0;34m(self)\u001b[0m\n\u001b[1;32m     25\u001b[0m \u001b[38;5;28;01mdef\u001b[39;00m \u001b[38;5;21m__str__\u001b[39m(\u001b[38;5;28mself\u001b[39m):\n\u001b[0;32m---> 26\u001b[0m     \u001b[38;5;28;01mreturn\u001b[39;00m \u001b[38;5;28mstr\u001b[39m(\u001b[38;5;28mself\u001b[39m\u001b[38;5;241m.\u001b[39mio_traverse())\n",
      "Cell \u001b[0;32mIn[436], line 23\u001b[0m, in \u001b[0;36mbst_node.io_traverse\u001b[0;34m(self)\u001b[0m\n\u001b[1;32m     21\u001b[0m     \u001b[38;5;28;01mreturn\u001b[39;00m []\n\u001b[1;32m     22\u001b[0m \u001b[38;5;28;01melse\u001b[39;00m:\n\u001b[0;32m---> 23\u001b[0m     \u001b[38;5;28;01mreturn\u001b[39;00m (\u001b[38;5;28mself\u001b[39m\u001b[38;5;241m.\u001b[39mleft\u001b[38;5;241m.\u001b[39mio_traverse() \u001b[38;5;241m+\u001b[39m [\u001b[38;5;28mself\u001b[39m\u001b[38;5;241m.\u001b[39mvalue] \u001b[38;5;241m+\u001b[39m \u001b[38;5;28mself\u001b[39m\u001b[38;5;241m.\u001b[39mright\u001b[38;5;241m.\u001b[39mio_traverse())\n",
      "Cell \u001b[0;32mIn[436], line 23\u001b[0m, in \u001b[0;36mbst_node.io_traverse\u001b[0;34m(self)\u001b[0m\n\u001b[1;32m     21\u001b[0m     \u001b[38;5;28;01mreturn\u001b[39;00m []\n\u001b[1;32m     22\u001b[0m \u001b[38;5;28;01melse\u001b[39;00m:\n\u001b[0;32m---> 23\u001b[0m     \u001b[38;5;28;01mreturn\u001b[39;00m (\u001b[38;5;28mself\u001b[39m\u001b[38;5;241m.\u001b[39mleft\u001b[38;5;241m.\u001b[39mio_traverse() \u001b[38;5;241m+\u001b[39m [\u001b[38;5;28mself\u001b[39m\u001b[38;5;241m.\u001b[39mvalue] \u001b[38;5;241m+\u001b[39m \u001b[38;5;28mself\u001b[39m\u001b[38;5;241m.\u001b[39mright\u001b[38;5;241m.\u001b[39mio_traverse())\n",
      "\u001b[0;31mAttributeError\u001b[0m: 'NoneType' object has no attribute 'io_traverse'"
     ]
    }
   ],
   "source": [
    "l = len(bst)\n",
    "\n",
    "for i in range(len(bst)):\n",
    "    bst_list = bst.list_gen()\n",
    "    print(\"Before deletion \", bst)\n",
    "    item = bst_list[random.randint(0, len(bst_list)-1)]\n",
    "    print(\"Item to be deleted from the list: \", item)\n",
    "    bst.delete(item)\n",
    "    print(\"After deletion \", bst, \"\\n\")"
   ]
  },
  {
   "cell_type": "code",
   "execution_count": 444,
   "id": "5b0ee76e",
   "metadata": {},
   "outputs": [
    {
     "ename": "AttributeError",
     "evalue": "'NoneType' object has no attribute 'delete'",
     "output_type": "error",
     "traceback": [
      "\u001b[0;31m---------------------------------------------------------------------------\u001b[0m",
      "\u001b[0;31mAttributeError\u001b[0m                            Traceback (most recent call last)",
      "Cell \u001b[0;32mIn[444], line 1\u001b[0m\n\u001b[0;32m----> 1\u001b[0m bst\u001b[38;5;241m.\u001b[39mdelete(\u001b[38;5;241m10\u001b[39m)\n",
      "Cell \u001b[0;32mIn[436], line 66\u001b[0m, in \u001b[0;36mbst_node.delete\u001b[0;34m(self, v)\u001b[0m\n\u001b[1;32m     64\u001b[0m     \u001b[38;5;28;01mreturn\u001b[39;00m\n\u001b[1;32m     65\u001b[0m \u001b[38;5;28;01melif\u001b[39;00m v \u001b[38;5;241m<\u001b[39m \u001b[38;5;28mself\u001b[39m\u001b[38;5;241m.\u001b[39mvalue:\n\u001b[0;32m---> 66\u001b[0m     \u001b[38;5;28;01mreturn\u001b[39;00m \u001b[38;5;28mself\u001b[39m\u001b[38;5;241m.\u001b[39mleft\u001b[38;5;241m.\u001b[39mdelete(v)\n\u001b[1;32m     67\u001b[0m \u001b[38;5;28;01melif\u001b[39;00m v \u001b[38;5;241m>\u001b[39m \u001b[38;5;28mself\u001b[39m\u001b[38;5;241m.\u001b[39mvalue:\n\u001b[1;32m     68\u001b[0m     \u001b[38;5;28;01mreturn\u001b[39;00m \u001b[38;5;28mself\u001b[39m\u001b[38;5;241m.\u001b[39mright\u001b[38;5;241m.\u001b[39mdelete(v)\n",
      "Cell \u001b[0;32mIn[436], line 66\u001b[0m, in \u001b[0;36mbst_node.delete\u001b[0;34m(self, v)\u001b[0m\n\u001b[1;32m     64\u001b[0m     \u001b[38;5;28;01mreturn\u001b[39;00m\n\u001b[1;32m     65\u001b[0m \u001b[38;5;28;01melif\u001b[39;00m v \u001b[38;5;241m<\u001b[39m \u001b[38;5;28mself\u001b[39m\u001b[38;5;241m.\u001b[39mvalue:\n\u001b[0;32m---> 66\u001b[0m     \u001b[38;5;28;01mreturn\u001b[39;00m \u001b[38;5;28mself\u001b[39m\u001b[38;5;241m.\u001b[39mleft\u001b[38;5;241m.\u001b[39mdelete(v)\n\u001b[1;32m     67\u001b[0m \u001b[38;5;28;01melif\u001b[39;00m v \u001b[38;5;241m>\u001b[39m \u001b[38;5;28mself\u001b[39m\u001b[38;5;241m.\u001b[39mvalue:\n\u001b[1;32m     68\u001b[0m     \u001b[38;5;28;01mreturn\u001b[39;00m \u001b[38;5;28mself\u001b[39m\u001b[38;5;241m.\u001b[39mright\u001b[38;5;241m.\u001b[39mdelete(v)\n",
      "\u001b[0;31mAttributeError\u001b[0m: 'NoneType' object has no attribute 'delete'"
     ]
    }
   ],
   "source": [
    "bst.delete(10)"
   ]
  },
  {
   "cell_type": "code",
   "execution_count": 445,
   "id": "dc4ac40f",
   "metadata": {},
   "outputs": [
    {
     "ename": "AttributeError",
     "evalue": "'NoneType' object has no attribute 'io_traverse'",
     "output_type": "error",
     "traceback": [
      "\u001b[0;31m---------------------------------------------------------------------------\u001b[0m",
      "\u001b[0;31mAttributeError\u001b[0m                            Traceback (most recent call last)",
      "Cell \u001b[0;32mIn[445], line 1\u001b[0m\n\u001b[0;32m----> 1\u001b[0m \u001b[38;5;28mprint\u001b[39m(bst)\n",
      "Cell \u001b[0;32mIn[436], line 26\u001b[0m, in \u001b[0;36mbst_node.__str__\u001b[0;34m(self)\u001b[0m\n\u001b[1;32m     25\u001b[0m \u001b[38;5;28;01mdef\u001b[39;00m \u001b[38;5;21m__str__\u001b[39m(\u001b[38;5;28mself\u001b[39m):\n\u001b[0;32m---> 26\u001b[0m     \u001b[38;5;28;01mreturn\u001b[39;00m \u001b[38;5;28mstr\u001b[39m(\u001b[38;5;28mself\u001b[39m\u001b[38;5;241m.\u001b[39mio_traverse())\n",
      "Cell \u001b[0;32mIn[436], line 23\u001b[0m, in \u001b[0;36mbst_node.io_traverse\u001b[0;34m(self)\u001b[0m\n\u001b[1;32m     21\u001b[0m     \u001b[38;5;28;01mreturn\u001b[39;00m []\n\u001b[1;32m     22\u001b[0m \u001b[38;5;28;01melse\u001b[39;00m:\n\u001b[0;32m---> 23\u001b[0m     \u001b[38;5;28;01mreturn\u001b[39;00m (\u001b[38;5;28mself\u001b[39m\u001b[38;5;241m.\u001b[39mleft\u001b[38;5;241m.\u001b[39mio_traverse() \u001b[38;5;241m+\u001b[39m [\u001b[38;5;28mself\u001b[39m\u001b[38;5;241m.\u001b[39mvalue] \u001b[38;5;241m+\u001b[39m \u001b[38;5;28mself\u001b[39m\u001b[38;5;241m.\u001b[39mright\u001b[38;5;241m.\u001b[39mio_traverse())\n",
      "Cell \u001b[0;32mIn[436], line 23\u001b[0m, in \u001b[0;36mbst_node.io_traverse\u001b[0;34m(self)\u001b[0m\n\u001b[1;32m     21\u001b[0m     \u001b[38;5;28;01mreturn\u001b[39;00m []\n\u001b[1;32m     22\u001b[0m \u001b[38;5;28;01melse\u001b[39;00m:\n\u001b[0;32m---> 23\u001b[0m     \u001b[38;5;28;01mreturn\u001b[39;00m (\u001b[38;5;28mself\u001b[39m\u001b[38;5;241m.\u001b[39mleft\u001b[38;5;241m.\u001b[39mio_traverse() \u001b[38;5;241m+\u001b[39m [\u001b[38;5;28mself\u001b[39m\u001b[38;5;241m.\u001b[39mvalue] \u001b[38;5;241m+\u001b[39m \u001b[38;5;28mself\u001b[39m\u001b[38;5;241m.\u001b[39mright\u001b[38;5;241m.\u001b[39mio_traverse())\n",
      "\u001b[0;31mAttributeError\u001b[0m: 'NoneType' object has no attribute 'io_traverse'"
     ]
    }
   ],
   "source": [
    "print(bst)"
   ]
  },
  {
   "cell_type": "code",
   "execution_count": 238,
   "id": "ebf7f394",
   "metadata": {},
   "outputs": [
    {
     "name": "stdout",
     "output_type": "stream",
     "text": [
      "[9, 11]\n"
     ]
    }
   ],
   "source": [
    "print(bst.find(9))"
   ]
  },
  {
   "cell_type": "code",
   "execution_count": 239,
   "id": "f4fb1122",
   "metadata": {},
   "outputs": [
    {
     "name": "stdout",
     "output_type": "stream",
     "text": [
      "[]\n"
     ]
    }
   ],
   "source": [
    "print(bst.find(12))"
   ]
  },
  {
   "cell_type": "code",
   "execution_count": 240,
   "id": "cfeb3401",
   "metadata": {},
   "outputs": [],
   "source": [
    "bst.insert(12)"
   ]
  },
  {
   "cell_type": "code",
   "execution_count": 241,
   "id": "24b4f032",
   "metadata": {},
   "outputs": [
    {
     "name": "stdout",
     "output_type": "stream",
     "text": [
      "[9, 11, 12]\n"
     ]
    }
   ],
   "source": [
    "print(bst)"
   ]
  },
  {
   "cell_type": "code",
   "execution_count": 242,
   "id": "0e4b9759",
   "metadata": {},
   "outputs": [],
   "source": [
    "bst.insert(10.5)"
   ]
  },
  {
   "cell_type": "code",
   "execution_count": 243,
   "id": "6650210c",
   "metadata": {},
   "outputs": [
    {
     "name": "stdout",
     "output_type": "stream",
     "text": [
      "[9, 10.5, 11, 12]\n"
     ]
    }
   ],
   "source": [
    "print(bst)"
   ]
  },
  {
   "cell_type": "code",
   "execution_count": 244,
   "id": "2a2f0653",
   "metadata": {},
   "outputs": [
    {
     "name": "stdout",
     "output_type": "stream",
     "text": [
      "[9, 10, 10.5, 11, 12]\n"
     ]
    }
   ],
   "source": [
    "bst.insert(10)\n",
    "print(bst)"
   ]
  },
  {
   "cell_type": "code",
   "execution_count": 245,
   "id": "74038d09",
   "metadata": {},
   "outputs": [
    {
     "name": "stdout",
     "output_type": "stream",
     "text": [
      "[12]\n"
     ]
    }
   ],
   "source": [
    "print(bst.maximum())"
   ]
  },
  {
   "cell_type": "code",
   "execution_count": 246,
   "id": "fa880263",
   "metadata": {},
   "outputs": [
    {
     "name": "stdout",
     "output_type": "stream",
     "text": [
      "[9, 10, 10.5, 11, 12]\n"
     ]
    }
   ],
   "source": [
    "print(bst)"
   ]
  },
  {
   "cell_type": "code",
   "execution_count": 247,
   "id": "9ac741eb",
   "metadata": {},
   "outputs": [],
   "source": [
    "bst.delete(11)"
   ]
  },
  {
   "cell_type": "code",
   "execution_count": 248,
   "id": "0179ebdf",
   "metadata": {},
   "outputs": [
    {
     "name": "stdout",
     "output_type": "stream",
     "text": [
      "[9, 10, 10.5, 12]\n"
     ]
    }
   ],
   "source": [
    "print(bst)"
   ]
  },
  {
   "cell_type": "code",
   "execution_count": null,
   "id": "9d4566d3",
   "metadata": {},
   "outputs": [],
   "source": []
  }
 ],
 "metadata": {
  "kernelspec": {
   "display_name": "Python 3 (ipykernel)",
   "language": "python",
   "name": "python3"
  },
  "language_info": {
   "codemirror_mode": {
    "name": "ipython",
    "version": 3
   },
   "file_extension": ".py",
   "mimetype": "text/x-python",
   "name": "python",
   "nbconvert_exporter": "python",
   "pygments_lexer": "ipython3",
   "version": "3.11.5"
  }
 },
 "nbformat": 4,
 "nbformat_minor": 5
}
