{
 "cells": [
  {
   "cell_type": "markdown",
   "id": "fad41b13",
   "metadata": {},
   "source": [
    "# Binary Search"
   ]
  },
  {
   "cell_type": "code",
   "execution_count": 87,
   "id": "c1728fb1",
   "metadata": {},
   "outputs": [],
   "source": [
    "def binary_search(l, i, start_ind, end_ind):\n",
    "    \n",
    "    \"\"\"\n",
    "    Find the index of an element i in a sorted list l using binary search...\n",
    "    searching will be done only within the indices provided\n",
    "    \"\"\"\n",
    "    mid_ind = start_ind + (end_ind - start_ind)//2\n",
    "    if i == l[mid_ind]:\n",
    "        return mid_ind\n",
    "    elif start_ind >= end_ind:\n",
    "        return -1\n",
    "    elif i < l[mid_ind]:\n",
    "        return binary_search(l, i, 0, mid_ind)\n",
    "    elif i > l[mid_ind]:\n",
    "        return binary_search(l, i, mid_ind + 1, end_ind)"
   ]
  },
  {
   "cell_type": "markdown",
   "id": "71377ac1",
   "metadata": {},
   "source": [
    "The time complexity of this algorithm will be O(logn) as we are halving the number of elements at each step and the total number of comparisons will be the height of the binary tree, which is logn (base 2)."
   ]
  },
  {
   "cell_type": "markdown",
   "id": "46475054",
   "metadata": {},
   "source": [
    "Example:"
   ]
  },
  {
   "cell_type": "code",
   "execution_count": 91,
   "id": "1343dd48",
   "metadata": {},
   "outputs": [
    {
     "data": {
      "text/plain": [
       "7"
      ]
     },
     "execution_count": 91,
     "metadata": {},
     "output_type": "execute_result"
    }
   ],
   "source": [
    "a = [1,2,3,4,5,6,7,8,9]\n",
    "binary_search(a, 8, 0, len(a) - 1)"
   ]
  },
  {
   "cell_type": "code",
   "execution_count": 92,
   "id": "bdcae0ae",
   "metadata": {},
   "outputs": [
    {
     "data": {
      "text/plain": [
       "-1"
      ]
     },
     "execution_count": 92,
     "metadata": {},
     "output_type": "execute_result"
    }
   ],
   "source": [
    "a = [1,2,3,4,5,6,7,8,9]\n",
    "binary_search(a, 8.5, 0, len(a) - 1)"
   ]
  },
  {
   "cell_type": "code",
   "execution_count": 93,
   "id": "eee097ae",
   "metadata": {},
   "outputs": [
    {
     "data": {
      "text/plain": [
       "-1"
      ]
     },
     "execution_count": 93,
     "metadata": {},
     "output_type": "execute_result"
    }
   ],
   "source": [
    "a = [1,2,3,4,5,6,7,8,9]\n",
    "binary_search(a, -2, 0, len(a) - 1)"
   ]
  },
  {
   "cell_type": "code",
   "execution_count": 94,
   "id": "97128ef4",
   "metadata": {},
   "outputs": [
    {
     "data": {
      "text/plain": [
       "-1"
      ]
     },
     "execution_count": 94,
     "metadata": {},
     "output_type": "execute_result"
    }
   ],
   "source": [
    "a = [1,2,3,4,5,6,7,8,9]\n",
    "binary_search(a, 18, 0, len(a) - 1)"
   ]
  }
 ],
 "metadata": {
  "kernelspec": {
   "display_name": "Python 3 (ipykernel)",
   "language": "python",
   "name": "python3"
  },
  "language_info": {
   "codemirror_mode": {
    "name": "ipython",
    "version": 3
   },
   "file_extension": ".py",
   "mimetype": "text/x-python",
   "name": "python",
   "nbconvert_exporter": "python",
   "pygments_lexer": "ipython3",
   "version": "3.11.5"
  }
 },
 "nbformat": 4,
 "nbformat_minor": 5
}
