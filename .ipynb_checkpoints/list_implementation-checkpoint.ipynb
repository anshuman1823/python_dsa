{
 "cells": [
  {
   "cell_type": "markdown",
   "id": "7187837b",
   "metadata": {},
   "source": [
    "We will try to implement our version of lists in python with the following functionalities:\n",
    "1. Append\n",
    "2. Insert\n",
    "3. Delete\n",
    "4. Print\n",
    "5. Length"
   ]
  },
  {
   "cell_type": "code",
   "execution_count": 127,
   "id": "1aa2ee86",
   "metadata": {},
   "outputs": [],
   "source": [
    "class Node():\n",
    "    \n",
    "    def __init__(self, initval = None):\n",
    "        self.value = initval\n",
    "        self.next = None\n",
    "    \n",
    "    def is_empty(self):\n",
    "        \"\"\"\n",
    "        Checks whether the list is an empty list or not\n",
    "        \"\"\"\n",
    "        if self.value == None:\n",
    "            return True\n",
    "        else:\n",
    "            return False\n",
    "    \n",
    "    def __str__(self):\n",
    "        \"\"\"\n",
    "        This is used to print the list\n",
    "        \"\"\"\n",
    "        emp_list = []\n",
    "        \n",
    "        if self.is_empty():\n",
    "            return str(emp_list)\n",
    "        \n",
    "        temp = self\n",
    "        emp_list.append(self.value)\n",
    "\n",
    "        while temp.next != None:\n",
    "            temp = temp.next\n",
    "            emp_list.append(temp.value)\n",
    "        \n",
    "        return str(emp_list)\n",
    "\n",
    "    \n",
    "    def append(self, v):\n",
    "        \"\"\"\n",
    "        Add the value `v` at the end of the list\n",
    "        \"\"\"\n",
    "        if self.is_empty():\n",
    "            self.value = v\n",
    "        elif self.next == None:\n",
    "            self.next = Node(v)\n",
    "        else:\n",
    "            self.next.append(v)\n",
    "            \n",
    "    def insert(self, v):\n",
    "        \"\"\"\n",
    "        Insert the value `v` at the head of the list\n",
    "        \"\"\"\n",
    "        new_node = Node(v)\n",
    "        (self.value, new_node.value) = (new_node.value, self.value)\n",
    "        (self.next, new_node.next) = (new_node, self.next)\n",
    "    \n",
    "    def delete(self, v):\n",
    "        \"\"\"\n",
    "        Deletes the first occurrence of the value `v`\n",
    "        \"\"\"\n",
    "        if self.value == v:\n",
    "            if self.next == None:\n",
    "                self.value = None\n",
    "                return\n",
    "            else:\n",
    "                self.value = self.next.value\n",
    "                self.next = self.next.next\n",
    "                return\n",
    "            \n",
    "        elif (self.next.value == v and self.next.next == None):\n",
    "            self.next = None\n",
    "            \n",
    "        else:\n",
    "            self.next.delete(v)\n",
    "        \n",
    "    \n",
    "    def __len__(self):\n",
    "        \"\"\"\n",
    "        Gives the length of the list\n",
    "        \"\"\"\n",
    "        count = 0\n",
    "        if self.is_empty():\n",
    "            return count\n",
    "        else:\n",
    "            count += 1\n",
    "            temp = self\n",
    "            while temp.next != None:\n",
    "                temp = temp.next\n",
    "                count += 1\n",
    "            return count"
   ]
  },
  {
   "cell_type": "code",
   "execution_count": 128,
   "id": "77da48a5",
   "metadata": {},
   "outputs": [
    {
     "name": "stdout",
     "output_type": "stream",
     "text": [
      "[0, 1, 2, 3, 4, 5, 6, 7, 8, 9]\n"
     ]
    }
   ],
   "source": [
    "l = Node(0)\n",
    "for i in range(1,10):\n",
    "    l.append(i)\n",
    "print(l)"
   ]
  },
  {
   "cell_type": "code",
   "execution_count": 129,
   "id": "bcb8a9ba",
   "metadata": {},
   "outputs": [
    {
     "name": "stdout",
     "output_type": "stream",
     "text": [
      "[-1, 0, 1, 2, 3, 4, 5, 6, 7, 8, 9]\n"
     ]
    }
   ],
   "source": [
    "l.insert(-1)\n",
    "print(l)"
   ]
  },
  {
   "cell_type": "code",
   "execution_count": 130,
   "id": "8906ff99",
   "metadata": {},
   "outputs": [
    {
     "name": "stdout",
     "output_type": "stream",
     "text": [
      "[-1, 0, 1, 2, 3, 4, 5, 6, 8, 9]\n"
     ]
    }
   ],
   "source": [
    "l.delete(7)\n",
    "print(l)"
   ]
  },
  {
   "cell_type": "code",
   "execution_count": 131,
   "id": "6e52ed86",
   "metadata": {},
   "outputs": [
    {
     "name": "stdout",
     "output_type": "stream",
     "text": [
      "[0, 1, 2, 3, 4, 5, 6, 8, 9]\n"
     ]
    }
   ],
   "source": [
    "l.delete(-1)\n",
    "print(l)"
   ]
  },
  {
   "cell_type": "code",
   "execution_count": 132,
   "id": "3b569770",
   "metadata": {},
   "outputs": [
    {
     "name": "stdout",
     "output_type": "stream",
     "text": [
      "[0, 1, 2, 3, 4, 5, 6, 8]\n"
     ]
    }
   ],
   "source": [
    "l.delete(9)\n",
    "print(l)"
   ]
  },
  {
   "cell_type": "code",
   "execution_count": 133,
   "id": "5cf49e3e",
   "metadata": {},
   "outputs": [
    {
     "data": {
      "text/plain": [
       "8"
      ]
     },
     "execution_count": 133,
     "metadata": {},
     "output_type": "execute_result"
    }
   ],
   "source": [
    "len(l)"
   ]
  },
  {
   "cell_type": "code",
   "execution_count": 134,
   "id": "fda763de",
   "metadata": {},
   "outputs": [],
   "source": [
    "b = Node(None)"
   ]
  },
  {
   "cell_type": "code",
   "execution_count": 135,
   "id": "2539f1db",
   "metadata": {},
   "outputs": [
    {
     "name": "stdout",
     "output_type": "stream",
     "text": [
      "[]\n"
     ]
    }
   ],
   "source": [
    "print(b)"
   ]
  },
  {
   "cell_type": "code",
   "execution_count": 136,
   "id": "52a792df",
   "metadata": {},
   "outputs": [
    {
     "data": {
      "text/plain": [
       "True"
      ]
     },
     "execution_count": 136,
     "metadata": {},
     "output_type": "execute_result"
    }
   ],
   "source": [
    "b.is_empty()"
   ]
  },
  {
   "cell_type": "code",
   "execution_count": 137,
   "id": "04ddaaaf",
   "metadata": {},
   "outputs": [
    {
     "data": {
      "text/plain": [
       "0"
      ]
     },
     "execution_count": 137,
     "metadata": {},
     "output_type": "execute_result"
    }
   ],
   "source": [
    "len(b)"
   ]
  }
 ],
 "metadata": {
  "kernelspec": {
   "display_name": "Python 3 (ipykernel)",
   "language": "python",
   "name": "python3"
  },
  "language_info": {
   "codemirror_mode": {
    "name": "ipython",
    "version": 3
   },
   "file_extension": ".py",
   "mimetype": "text/x-python",
   "name": "python",
   "nbconvert_exporter": "python",
   "pygments_lexer": "ipython3",
   "version": "3.11.5"
  }
 },
 "nbformat": 4,
 "nbformat_minor": 5
}
