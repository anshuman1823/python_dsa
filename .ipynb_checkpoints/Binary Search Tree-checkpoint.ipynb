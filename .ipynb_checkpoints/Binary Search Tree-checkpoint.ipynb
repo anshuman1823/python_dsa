{
 "cells": [
  {
   "cell_type": "markdown",
   "id": "8a8a97d5",
   "metadata": {},
   "source": [
    "Implementation of Binary Search Trees"
   ]
  },
  {
   "cell_type": "code",
   "execution_count": 264,
   "id": "35054133",
   "metadata": {},
   "outputs": [],
   "source": [
    "import random"
   ]
  },
  {
   "cell_type": "code",
   "execution_count": 517,
   "id": "5a876c07",
   "metadata": {},
   "outputs": [],
   "source": [
    "class bst_node():\n",
    "    \n",
    "    def __init__(self, initval = None):\n",
    "        \"\"\"\n",
    "        Initializing function\n",
    "        \"\"\"\n",
    "        if initval == None:\n",
    "            self.value = None\n",
    "            self.left = None\n",
    "            self.right = None\n",
    "        else:\n",
    "            self.value = initval\n",
    "            self.left = bst_node()\n",
    "            self.right = bst_node()\n",
    "\n",
    "    def is_empty(self):\n",
    "        \"\"\"\n",
    "        Checks weather a node is empty or not. Only empty nodes have value == None\n",
    "        \"\"\"\n",
    "        if self.value == None:\n",
    "            return True\n",
    "        else:\n",
    "            return False\n",
    "            \n",
    "    def io_traverse(self):\n",
    "        \"\"\"\n",
    "        This gives the inorder traverse for the BST. The inorder traverse first goes to the left\n",
    "        sub-tree, then the parent node, and then to the right sub-tree\n",
    "        \"\"\"\n",
    "        if self.is_empty():\n",
    "            return []\n",
    "        else:\n",
    "            return (self.left.io_traverse() + [self.value] + self.right.io_traverse())\n",
    "    \n",
    "    def __str__(self):\n",
    "        \"\"\"\n",
    "        This gives us a string representation of a BST...which is nothing but the inorder traversal\n",
    "        in the form of a list\n",
    "        \"\"\"\n",
    "        return str(self.io_traverse())\n",
    "    \n",
    "    def __len__(self):\n",
    "        \"\"\"\n",
    "        This gives us the number of nodes present in the BST\n",
    "        \"\"\"\n",
    "        return len(self.io_traverse())\n",
    "    \n",
    "    def list_gen(self):\n",
    "        \"\"\"\n",
    "        This is a custom function to get the BST in the form of a list in ascending order (inorder traversal)\n",
    "        \"\"\"\n",
    "        return self.io_traverse()\n",
    "    \n",
    "    def find(self, v):\n",
    "        \"\"\"\n",
    "        This function is used to find a value v in the BST\n",
    "        \"\"\"\n",
    "        if self.is_empty():\n",
    "            return []\n",
    "        elif v == self.value:\n",
    "            return self\n",
    "        elif v < self.value:\n",
    "            return self.left.find(v)\n",
    "        elif v > self.value:\n",
    "            return self.right.find(v)\n",
    "    \n",
    "    def insert(self, v):\n",
    "        \"\"\"\n",
    "        This function is used to insert a value v in the BST. It works on the principal that \n",
    "        we start searching for v...if we find v then we don't have to do anything...but if we don't find v,\n",
    "        the place where we end up is the place where v should be and that's where we insert a new leaf node with \n",
    "        value v\n",
    "        \"\"\"\n",
    "        if self.is_empty():\n",
    "            self.value = v\n",
    "            self.left = bst_node()\n",
    "            self.right = bst_node()\n",
    "        elif v < self.value:\n",
    "            self.left.insert(v)\n",
    "        elif v > self.value:\n",
    "            self.right.insert(v)\n",
    "        elif v == self.value:\n",
    "            return    \n",
    "    \n",
    "    def maximum(self):\n",
    "        \"\"\"\n",
    "        Finds the maximum value in a BST. \n",
    "        The maximum value in BST is the rightmost node\n",
    "        \"\"\"\n",
    "        if self.right.is_empty():\n",
    "            return self\n",
    "        else:\n",
    "            return self.right.maximum()\n",
    "    \n",
    "    def minimum(self):\n",
    "        \"\"\"\n",
    "        Finds the minimum value in a BST. \n",
    "        The minimum value in BST is the leftmost node\n",
    "        \"\"\"\n",
    "        if self.left.is_empty():\n",
    "            return self\n",
    "        else:\n",
    "            return self.left.minimum()\n",
    "    \n",
    "    def delete(self, v):\n",
    "        \"\"\"\n",
    "        This method is used to delete a node from the BST.\n",
    "        \"\"\"\n",
    "        if self.is_empty():\n",
    "            return\n",
    "        elif v < self.value:\n",
    "            return self.left.delete(v)\n",
    "        elif v > self.value:\n",
    "            return self.right.delete(v)\n",
    "        elif v == self.value:\n",
    "            if self.left.is_empty():\n",
    "                if self.right.is_empty():     ## This is the case when the node to be deleted is a leaf node. Here\n",
    "                    self.value = None         ## we just simply delete the node by making it None.\n",
    "                    self.left = None\n",
    "                    self.right = None\n",
    "                    return\n",
    "                else:\n",
    "                    self.value = self.right.value    ## The node to be deleted has only right child. Here, we \n",
    "                    self.left = self.right.left      ## update the right child to the parent node's place\n",
    "                    self.right = self.right.right\n",
    "                    return\n",
    "            else:\n",
    "                temp = self.left.maximum().value    ## Here, the node to be deleted has both children or \n",
    "                (self.left.maximum()).delete((self.left.maximum()).value)  ## only has a left child. \n",
    "                self.value = temp                   ## Therefore, we find the \n",
    "                return"
   ]
  },
  {
   "cell_type": "markdown",
   "id": "e47fc6f1",
   "metadata": {},
   "source": [
    "Demonstrating the working of the above implementation of BST"
   ]
  },
  {
   "cell_type": "code",
   "execution_count": 518,
   "id": "1b536983",
   "metadata": {},
   "outputs": [
    {
     "name": "stdout",
     "output_type": "stream",
     "text": [
      "[50, 86]\n"
     ]
    }
   ],
   "source": [
    "bst = bst_node(50)\n",
    "bst.insert(86)\n",
    "print(bst)"
   ]
  },
  {
   "cell_type": "code",
   "execution_count": 519,
   "id": "03ffc25f",
   "metadata": {},
   "outputs": [],
   "source": [
    "bst.delete(50)"
   ]
  },
  {
   "cell_type": "code",
   "execution_count": 520,
   "id": "93b395a0",
   "metadata": {},
   "outputs": [
    {
     "name": "stdout",
     "output_type": "stream",
     "text": [
      "[86]\n"
     ]
    }
   ],
   "source": [
    "print(bst)"
   ]
  },
  {
   "cell_type": "code",
   "execution_count": 521,
   "id": "67f803e9",
   "metadata": {},
   "outputs": [],
   "source": [
    "for i in range(10):\n",
    "    bst.insert(random.randrange(1, 100))"
   ]
  },
  {
   "cell_type": "code",
   "execution_count": 522,
   "id": "07dcf03f",
   "metadata": {},
   "outputs": [
    {
     "name": "stdout",
     "output_type": "stream",
     "text": [
      "[1, 17, 39, 42, 46, 50, 56, 86, 91, 96]\n"
     ]
    }
   ],
   "source": [
    "print(bst)"
   ]
  },
  {
   "cell_type": "code",
   "execution_count": 523,
   "id": "891ed9c4",
   "metadata": {},
   "outputs": [],
   "source": [
    "bst.delete(7)"
   ]
  },
  {
   "cell_type": "code",
   "execution_count": 524,
   "id": "bc30eef3",
   "metadata": {},
   "outputs": [
    {
     "data": {
      "text/plain": [
       "10"
      ]
     },
     "execution_count": 524,
     "metadata": {},
     "output_type": "execute_result"
    }
   ],
   "source": [
    "len(bst)"
   ]
  },
  {
   "cell_type": "code",
   "execution_count": 525,
   "id": "f6fb2ffd",
   "metadata": {},
   "outputs": [
    {
     "name": "stdout",
     "output_type": "stream",
     "text": [
      "Before deletion  [1, 17, 39, 42, 46, 50, 56, 86, 91, 96]\n",
      "Item to be deleted from the list:  50\n",
      "After deletion  [1, 17, 39, 42, 46, 56, 86, 91, 96] \n",
      "\n",
      "Before deletion  [1, 17, 39, 42, 46, 56, 86, 91, 96]\n",
      "Item to be deleted from the list:  46\n",
      "After deletion  [1, 17, 39, 42, 56, 86, 91, 96] \n",
      "\n",
      "Before deletion  [1, 17, 39, 42, 56, 86, 91, 96]\n",
      "Item to be deleted from the list:  42\n",
      "After deletion  [1, 17, 39, 56, 86, 91, 96] \n",
      "\n",
      "Before deletion  [1, 17, 39, 56, 86, 91, 96]\n",
      "Item to be deleted from the list:  56\n",
      "After deletion  [1, 17, 39, 86, 91, 96] \n",
      "\n",
      "Before deletion  [1, 17, 39, 86, 91, 96]\n",
      "Item to be deleted from the list:  39\n",
      "After deletion  [1, 17, 86, 91, 96] \n",
      "\n",
      "Before deletion  [1, 17, 86, 91, 96]\n",
      "Item to be deleted from the list:  91\n",
      "After deletion  [1, 17, 86, 96] \n",
      "\n",
      "Before deletion  [1, 17, 86, 96]\n",
      "Item to be deleted from the list:  86\n",
      "After deletion  [1, 17, 96] \n",
      "\n",
      "Before deletion  [1, 17, 96]\n",
      "Item to be deleted from the list:  96\n",
      "After deletion  [1, 17] \n",
      "\n",
      "Before deletion  [1, 17]\n",
      "Item to be deleted from the list:  17\n",
      "After deletion  [1] \n",
      "\n",
      "Before deletion  [1]\n",
      "Item to be deleted from the list:  1\n",
      "After deletion  [] \n",
      "\n"
     ]
    }
   ],
   "source": [
    "l = len(bst)\n",
    "\n",
    "for i in range(len(bst)):\n",
    "    bst_list = bst.list_gen()\n",
    "    print(\"Before deletion \", bst)\n",
    "    item = bst_list[random.randint(0, len(bst_list)-1)]\n",
    "    print(\"Item to be deleted from the list: \", item)\n",
    "    bst.delete(item)\n",
    "    print(\"After deletion \", bst, \"\\n\")"
   ]
  }
 ],
 "metadata": {
  "kernelspec": {
   "display_name": "Python 3 (ipykernel)",
   "language": "python",
   "name": "python3"
  },
  "language_info": {
   "codemirror_mode": {
    "name": "ipython",
    "version": 3
   },
   "file_extension": ".py",
   "mimetype": "text/x-python",
   "name": "python",
   "nbconvert_exporter": "python",
   "pygments_lexer": "ipython3",
   "version": "3.11.5"
  }
 },
 "nbformat": 4,
 "nbformat_minor": 5
}
