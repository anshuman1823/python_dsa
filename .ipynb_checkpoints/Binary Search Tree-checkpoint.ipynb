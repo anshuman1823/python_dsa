{
 "cells": [
  {
   "cell_type": "markdown",
   "id": "3352c04d",
   "metadata": {},
   "source": [
    "Implementation of Binary Search Trees"
   ]
  },
  {
   "cell_type": "code",
   "execution_count": 72,
   "id": "d11b6b83",
   "metadata": {},
   "outputs": [],
   "source": [
    "class bst_node():\n",
    "    \n",
    "    def __init__(self, initval = None):\n",
    "        if initval == None:\n",
    "            self.value = None\n",
    "            self.left = None\n",
    "            self.right = None\n",
    "        else:\n",
    "            self.value = initval\n",
    "            self.left = bst_node()\n",
    "            self.right = bst_node()\n",
    "\n",
    "    def is_empty(self):\n",
    "        if self.value == None:\n",
    "            return True\n",
    "        else:\n",
    "            return False\n",
    "            \n",
    "    def io_traverse(self):\n",
    "        if self.is_empty():\n",
    "            return []\n",
    "        else:\n",
    "            return (self.left.io_traverse() + [self.value] + self.right.io_traverse())\n",
    "    \n",
    "    def __str__(self):\n",
    "        return str(self.io_traverse())\n",
    "    \n",
    "    def find(self, v):\n",
    "        if self.is_empty():\n",
    "            return []\n",
    "        elif v == self.value:\n",
    "            return self\n",
    "        elif v < self.value:\n",
    "            return self.left.find(v)\n",
    "        elif v > self.value:\n",
    "            return self.right.find(v)\n",
    "    \n",
    "    def insert(self, v):\n",
    "        if self.is_empty():\n",
    "            self.value = v\n",
    "            self.left = bst_node()\n",
    "            self.right = bst_node()\n",
    "        elif v < self.value:\n",
    "            self.left.insert(v)\n",
    "        elif v > self.value:\n",
    "            self.right.insert(v)\n",
    "        elif v == self.value:\n",
    "            return        "
   ]
  },
  {
   "cell_type": "code",
   "execution_count": 73,
   "id": "2151fccf",
   "metadata": {},
   "outputs": [],
   "source": [
    "bst = bst_node(10)"
   ]
  },
  {
   "cell_type": "code",
   "execution_count": 74,
   "id": "78152197",
   "metadata": {},
   "outputs": [
    {
     "name": "stdout",
     "output_type": "stream",
     "text": [
      "[10]\n"
     ]
    }
   ],
   "source": [
    "print(bst)"
   ]
  },
  {
   "cell_type": "code",
   "execution_count": 75,
   "id": "8860ee3e",
   "metadata": {},
   "outputs": [],
   "source": [
    "bst.left = bst_node(9)"
   ]
  },
  {
   "cell_type": "code",
   "execution_count": 76,
   "id": "f4d30fa1",
   "metadata": {},
   "outputs": [],
   "source": [
    "bst.right = bst_node(11)"
   ]
  },
  {
   "cell_type": "code",
   "execution_count": 77,
   "id": "3997b86c",
   "metadata": {},
   "outputs": [
    {
     "name": "stdout",
     "output_type": "stream",
     "text": [
      "[9, 10, 11]\n"
     ]
    }
   ],
   "source": [
    "print(bst)"
   ]
  },
  {
   "cell_type": "code",
   "execution_count": 78,
   "id": "706de6e5",
   "metadata": {},
   "outputs": [
    {
     "name": "stdout",
     "output_type": "stream",
     "text": [
      "[9]\n"
     ]
    }
   ],
   "source": [
    "print(bst.find(9))"
   ]
  },
  {
   "cell_type": "code",
   "execution_count": 79,
   "id": "d62bc90d",
   "metadata": {},
   "outputs": [
    {
     "name": "stdout",
     "output_type": "stream",
     "text": [
      "[]\n"
     ]
    }
   ],
   "source": [
    "print(bst.find(12))"
   ]
  },
  {
   "cell_type": "code",
   "execution_count": 86,
   "id": "b8217c28",
   "metadata": {},
   "outputs": [],
   "source": [
    "bst.insert(12)"
   ]
  },
  {
   "cell_type": "code",
   "execution_count": 87,
   "id": "980b7122",
   "metadata": {},
   "outputs": [
    {
     "name": "stdout",
     "output_type": "stream",
     "text": [
      "[8, 9, 10, 10.5, 11, 12]\n"
     ]
    }
   ],
   "source": [
    "print(bst)"
   ]
  },
  {
   "cell_type": "code",
   "execution_count": 83,
   "id": "ef36d3e3",
   "metadata": {},
   "outputs": [],
   "source": [
    "bst.insert(10.5)"
   ]
  },
  {
   "cell_type": "code",
   "execution_count": 84,
   "id": "a5b1c1f8",
   "metadata": {},
   "outputs": [
    {
     "name": "stdout",
     "output_type": "stream",
     "text": [
      "[8, 9, 10, 10.5, 11]\n"
     ]
    }
   ],
   "source": [
    "print(bst)"
   ]
  },
  {
   "cell_type": "code",
   "execution_count": 85,
   "id": "d552fa5e",
   "metadata": {},
   "outputs": [
    {
     "name": "stdout",
     "output_type": "stream",
     "text": [
      "[8, 9, 10, 10.5, 11]\n"
     ]
    }
   ],
   "source": [
    "bst.insert(10)\n",
    "print(bst)"
   ]
  },
  {
   "cell_type": "code",
   "execution_count": null,
   "id": "3a45f6e5",
   "metadata": {},
   "outputs": [],
   "source": []
  }
 ],
 "metadata": {
  "kernelspec": {
   "display_name": "Python 3 (ipykernel)",
   "language": "python",
   "name": "python3"
  },
  "language_info": {
   "codemirror_mode": {
    "name": "ipython",
    "version": 3
   },
   "file_extension": ".py",
   "mimetype": "text/x-python",
   "name": "python",
   "nbconvert_exporter": "python",
   "pygments_lexer": "ipython3",
   "version": "3.11.5"
  }
 },
 "nbformat": 4,
 "nbformat_minor": 5
}
