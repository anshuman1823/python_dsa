{
 "cells": [
  {
   "cell_type": "markdown",
   "id": "0889c517",
   "metadata": {},
   "source": [
    "# 1. Selection Sort"
   ]
  },
  {
   "cell_type": "markdown",
   "id": "9272dc7b",
   "metadata": {},
   "source": [
    "Here, we will implement selection sort to sort a list in ascending order"
   ]
  },
  {
   "cell_type": "code",
   "execution_count": 6,
   "id": "11f46a42",
   "metadata": {},
   "outputs": [],
   "source": [
    "def sel_sort(l):\n",
    "    \"\"\"\n",
    "    Sort the list l in ascending order using selection sort in place\n",
    "    \"\"\"\n",
    "    for i in range(len(l)):\n",
    "        min_ = i\n",
    "        for j in range(i+1, len(l)):\n",
    "            if l[j] < l[min_]:\n",
    "                min_ = j\n",
    "        (l[i], l[min_]) = (l[min_], l[i])        "
   ]
  },
  {
   "cell_type": "markdown",
   "id": "71660b4e",
   "metadata": {},
   "source": [
    "Example:"
   ]
  },
  {
   "cell_type": "code",
   "execution_count": 19,
   "id": "d178d70b",
   "metadata": {},
   "outputs": [
    {
     "data": {
      "text/plain": [
       "[19, 14, 11, 4, 5]"
      ]
     },
     "execution_count": 19,
     "metadata": {},
     "output_type": "execute_result"
    }
   ],
   "source": [
    "import random\n",
    "a = [random.randint(0, 20) for i in range(5)]\n",
    "a"
   ]
  },
  {
   "cell_type": "code",
   "execution_count": 20,
   "id": "dd632d93",
   "metadata": {},
   "outputs": [],
   "source": [
    "sel_sort(a)"
   ]
  },
  {
   "cell_type": "code",
   "execution_count": 21,
   "id": "33c6ffe7",
   "metadata": {},
   "outputs": [
    {
     "data": {
      "text/plain": [
       "[4, 5, 11, 14, 19]"
      ]
     },
     "execution_count": 21,
     "metadata": {},
     "output_type": "execute_result"
    }
   ],
   "source": [
    "a"
   ]
  },
  {
   "cell_type": "markdown",
   "id": "9e551204",
   "metadata": {},
   "source": [
    "The time complexity of the selection sort algorithm is O(n2)."
   ]
  },
  {
   "cell_type": "markdown",
   "id": "a25f8fc1",
   "metadata": {},
   "source": [
    "# 2.0 Insertion Sort"
   ]
  },
  {
   "cell_type": "markdown",
   "id": "9aaea9a5",
   "metadata": {},
   "source": [
    "Here, we will implement insertion sort using iterative approach"
   ]
  },
  {
   "cell_type": "code",
   "execution_count": 23,
   "id": "82cd9cba",
   "metadata": {},
   "outputs": [],
   "source": [
    "def ins_sort(l):\n",
    "    \"\"\"\n",
    "    This function will implement the insertion sort algorithm to sort a list l in ascending order in place\n",
    "    \"\"\"\n",
    "    for i in range(len(l)-1):\n",
    "        pos = i + 1\n",
    "        while (l[pos] < l[pos - 1]) and (pos > 0):\n",
    "            (l[pos], l[pos-1]) = (l[pos-1], l[pos])\n",
    "            pos -= 1"
   ]
  },
  {
   "cell_type": "markdown",
   "id": "b4590f3e",
   "metadata": {},
   "source": [
    "This implementation of insertion sort has a time complexity of O(n2)."
   ]
  },
  {
   "cell_type": "markdown",
   "id": "3133f925",
   "metadata": {},
   "source": [
    "# 2.1 Recursion Insertion Sort"
   ]
  },
  {
   "cell_type": "markdown",
   "id": "2678fb44",
   "metadata": {},
   "source": [
    "Here, we will implement the recursion version of the insertion sort"
   ]
  },
  {
   "cell_type": "code",
   "execution_count": 64,
   "id": "83f6ec52",
   "metadata": {},
   "outputs": [],
   "source": [
    "def rec_ins_sort(l, start_ind, end_ind):\n",
    "    \"\"\"\n",
    "    This function will implement the recursion version of insertion sort to sort a list l in ascending order\n",
    "    in place\n",
    "    \"\"\"\n",
    "    \n",
    "    def insert(pos):\n",
    "        while (pos > 0) and (l[pos] < l[pos-1]):\n",
    "            (l[pos], l[pos-1]) = (l[pos-1], l[pos])\n",
    "            pos -= 1\n",
    "            \n",
    "    if (end_ind - start_ind) < 1:\n",
    "        return\n",
    "    \n",
    "    rec_ins_sort(l, start_ind, end_ind-1)\n",
    "    insert(end_ind)"
   ]
  },
  {
   "cell_type": "markdown",
   "id": "a03de5c4",
   "metadata": {},
   "source": [
    "The time complexity of this algorithm is also O(n2)."
   ]
  },
  {
   "cell_type": "markdown",
   "id": "271f5b76",
   "metadata": {},
   "source": [
    "Example:"
   ]
  },
  {
   "cell_type": "code",
   "execution_count": 69,
   "id": "1043bdc5",
   "metadata": {},
   "outputs": [],
   "source": [
    "a = [3,7,1,6,1,5,9,10,8,-1]\n",
    "rec_ins_sort(a, 0, len(a) - 1)"
   ]
  },
  {
   "cell_type": "code",
   "execution_count": 70,
   "id": "21fc02e8",
   "metadata": {},
   "outputs": [
    {
     "data": {
      "text/plain": [
       "[-1, 1, 1, 3, 5, 6, 7, 8, 9, 10]"
      ]
     },
     "execution_count": 70,
     "metadata": {},
     "output_type": "execute_result"
    }
   ],
   "source": [
    "a"
   ]
  },
  {
   "cell_type": "markdown",
   "id": "85a3953b",
   "metadata": {},
   "source": [
    "# 3. Merge Sort"
   ]
  },
  {
   "cell_type": "markdown",
   "id": "4ed00c6d",
   "metadata": {},
   "source": [
    "Here, we will implement merge sort to sort a python list in ascending order."
   ]
  },
  {
   "cell_type": "code",
   "execution_count": 50,
   "id": "79841340",
   "metadata": {},
   "outputs": [],
   "source": [
    "def merge_sort(l):\n",
    "    \"\"\"\n",
    "    Sort the list l in ascending order using the merge sort algorithm.\n",
    "    \"\"\"\n",
    "    def merge(l1, l2):\n",
    "        \"\"\"\n",
    "        This sub-function of the merge_sort algorithm merges two sorted lists.\n",
    "        \"\"\"\n",
    "        c = []\n",
    "        i, j = 0, 0\n",
    "        while i < len(l1) and j < len(l2):\n",
    "            if l1[i] < l2[j]:\n",
    "                c.append(l1[i])\n",
    "                i += 1\n",
    "            else:\n",
    "                c.append(l2[j])\n",
    "                j += 1\n",
    "        # Append any remaining elements\n",
    "        c.extend(l1[i:])\n",
    "        c.extend(l2[j:])\n",
    "        return c\n",
    "    \n",
    "    if len(l) <= 1:\n",
    "        return l\n",
    "    mid = len(l) // 2\n",
    "    return merge(merge_sort(l[:mid]), merge_sort(l[mid:]))"
   ]
  },
  {
   "cell_type": "code",
   "execution_count": 56,
   "id": "28fae09a-92cd-4cab-8595-5f51410b51e9",
   "metadata": {},
   "outputs": [
    {
     "name": "stdout",
     "output_type": "stream",
     "text": [
      "[138, 142, 211, 274, 493, 500, 540, 713, 854, 934]\n"
     ]
    }
   ],
   "source": [
    "## Checking the working of the above merge sort function\n",
    "\n",
    "a = [random.randint(0,1000) for i in range(10)]\n",
    "print(merge_sort(a))"
   ]
  },
  {
   "cell_type": "markdown",
   "id": "b228844e-2f5d-4605-bd5f-a2290698918b",
   "metadata": {},
   "source": [
    "# 4.1 Recursive Quick Sort"
   ]
  },
  {
   "cell_type": "markdown",
   "id": "4ec5c4d1-71ff-4bd2-8fa1-843e4842ccf6",
   "metadata": {},
   "source": [
    "Creating an algorithm to implement the recursive version of quick sort"
   ]
  },
  {
   "cell_type": "code",
   "execution_count": 136,
   "id": "9b4f12a3-1d2d-4544-8e9d-1cd6e6fda6c7",
   "metadata": {},
   "outputs": [],
   "source": [
    "import random\n",
    "\n",
    "def quick_sort(x, l, r):\n",
    "    \"\"\"\n",
    "    Implement recursive randomized version of quicksort\n",
    "    \"\"\"\n",
    "    if r-l < 1:\n",
    "        return\n",
    "\n",
    "    pivot = random.randint(l,r)   ## Randomly selects an element as pivot\n",
    "        \n",
    "    yellow = l-1\n",
    "\n",
    "    for green in range(l, r+1):\n",
    "        if x[green] < x[pivot]:\n",
    "            x[yellow+1], x[green] = x[green], x[yellow+1]\n",
    "            yellow += 1\n",
    "        elif x[green] == x[pivot]:\n",
    "            x[yellow+1], x[green] = x[green], x[yellow+1]\n",
    "            yellow += 1\n",
    "            pivot = yellow\n",
    "        \n",
    "    ## swapping pivot value with the value at yellow pointer\n",
    "    x[yellow], x[pivot] = x[pivot], x[yellow]\n",
    "    \n",
    "    ## Now, the pivot element is at the yellow pointer's position\n",
    "    ## We now want to have an array with elements less than the pivot value till [:yellow], pivot at [yellow], and \n",
    "    ## values greater than the pivot value at [yellow+1:]\n",
    "    \n",
    "    (quick_sort(x, l, yellow-1), quick_sort(x, yellow+1, r))    "
   ]
  },
  {
   "cell_type": "markdown",
   "id": "45aedd0e-30cf-43e4-92fc-1290ed2d07cf",
   "metadata": {},
   "source": [
    "Testing the above algorithm through examples:"
   ]
  },
  {
   "cell_type": "code",
   "execution_count": null,
   "id": "6528e6ef-b2f6-4374-9b42-c451c6f5721f",
   "metadata": {},
   "outputs": [],
   "source": [
    "a = [1,1,1,0]\n",
    "quick_sort(a, 0 ,3)\n",
    "print(a)"
   ]
  },
  {
   "cell_type": "code",
   "execution_count": 139,
   "id": "7e690f6b-2e4f-46b6-b6f7-ab0044814a6d",
   "metadata": {},
   "outputs": [
    {
     "name": "stdout",
     "output_type": "stream",
     "text": [
      "[42, 12, 20, 63, 41]\n",
      "[12, 20, 41, 42, 63]\n"
     ]
    }
   ],
   "source": [
    "a = [random.randint(0,100) for i in range (5)]\n",
    "print(a)\n",
    "quick_sort(a, 0, len(a)-1)\n",
    "print(a)"
   ]
  },
  {
   "cell_type": "markdown",
   "id": "41dc7ae7-5dd9-4ed5-8ae0-b39de550df6d",
   "metadata": {},
   "source": [
    "# 4.2.1 Iterative Quick Sort (non-randomized)"
   ]
  },
  {
   "cell_type": "markdown",
   "id": "b107564f-9655-4912-b18d-bc539f862278",
   "metadata": {},
   "source": [
    "Here, we will implement the non-randomized iterative version of quicksort"
   ]
  },
  {
   "cell_type": "code",
   "execution_count": 192,
   "id": "bdb9542d-25ac-4be6-b7cf-aaa9af56fe0c",
   "metadata": {},
   "outputs": [],
   "source": [
    "import random\n",
    "\n",
    "def itr_qs(x):\n",
    "    \"\"\"\n",
    "    Quick sort iterative implementation\n",
    "    \"\"\"\n",
    "    def qs(a,l,r):\n",
    "        \"\"\"\n",
    "        This sub-function will do the partitioning to arrange the elements in the following order:\n",
    "        <= pivot | pivot | > pivot\n",
    "        \"\"\"\n",
    "        pivot = r\n",
    "        yellow = l-1\n",
    "        \n",
    "        for green in range(l,r):     ## Looping till r-1 only because we know that the pivot element is at the last\n",
    "            if a[green] < a[pivot]:\n",
    "                a[yellow+1], a[green] = a[green], a[yellow+1]\n",
    "                yellow += 1\n",
    "        \n",
    "        ## Now, swapping the pivot element with the yellow+1 position\n",
    "        a[yellow+1], a[r] = a[r], a[yellow+1]\n",
    "        return yellow+1\n",
    "\n",
    "    stack = [(0, len(x)-1)]\n",
    "\n",
    "    while stack:\n",
    "        low, high = stack.pop()\n",
    "        if low < high:\n",
    "            pivot = qs(x,low,high)\n",
    "            stack.append((low, pivot-1))\n",
    "            stack.append((pivot+1, high))"
   ]
  },
  {
   "cell_type": "markdown",
   "id": "df1f15dd-c345-4abc-8ff7-e189da4a3d76",
   "metadata": {},
   "source": [
    "Checking the working of the above algorithm through examples"
   ]
  },
  {
   "cell_type": "code",
   "execution_count": 197,
   "id": "828b0e85-deef-45cb-aa46-5d19f20f8336",
   "metadata": {},
   "outputs": [
    {
     "name": "stdout",
     "output_type": "stream",
     "text": [
      "[0, 1, 1, 1]\n"
     ]
    }
   ],
   "source": [
    "a = [1,1,1,0]\n",
    "itr_qs(a)\n",
    "print(a)"
   ]
  },
  {
   "cell_type": "code",
   "execution_count": 198,
   "id": "6fb65f0e-050e-421a-95dd-f3f2d3aab10e",
   "metadata": {},
   "outputs": [
    {
     "name": "stdout",
     "output_type": "stream",
     "text": [
      "[12, 45, 25, 68, 36, 35]\n",
      "[12, 25, 35, 36, 45, 68]\n"
     ]
    }
   ],
   "source": [
    "a = [random.randint(0,100) for i in range(6)]\n",
    "print(a)\n",
    "itr_qs(a)\n",
    "print(a)"
   ]
  },
  {
   "cell_type": "code",
   "execution_count": null,
   "id": "5ded6d20-8116-4b6c-b6f9-edebd01ee167",
   "metadata": {},
   "outputs": [],
   "source": []
  },
  {
   "cell_type": "markdown",
   "id": "719e35f2-6e06-4b7a-9db2-09f86da6665a",
   "metadata": {},
   "source": [
    "# 4.2.1 Iterative Quick Sort (randomized)"
   ]
  },
  {
   "cell_type": "markdown",
   "id": "e2625410-78a7-4ed3-9fb8-b0b7a63c5f84",
   "metadata": {},
   "source": [
    "Here, we will implement the randomized iterative version of quicksort"
   ]
  },
  {
   "cell_type": "code",
   "execution_count": null,
   "id": "9642474a-1fd5-423c-9099-038da182fb78",
   "metadata": {},
   "outputs": [],
   "source": []
  },
  {
   "cell_type": "code",
   "execution_count": null,
   "id": "fa23ae02-9a2b-4595-a588-2804cebabdc5",
   "metadata": {},
   "outputs": [],
   "source": []
  },
  {
   "cell_type": "code",
   "execution_count": null,
   "id": "afcbdfd7-9458-45eb-ad2c-20970d9a8ba2",
   "metadata": {},
   "outputs": [],
   "source": []
  },
  {
   "cell_type": "code",
   "execution_count": null,
   "id": "34ebbff3-8786-4579-be3d-9221e8ff024e",
   "metadata": {},
   "outputs": [],
   "source": []
  },
  {
   "cell_type": "code",
   "execution_count": null,
   "id": "df23e409-d26c-4702-890a-ea8b3345e626",
   "metadata": {},
   "outputs": [],
   "source": []
  },
  {
   "cell_type": "code",
   "execution_count": null,
   "id": "22c9cab1-2760-449a-b849-c15b77376395",
   "metadata": {},
   "outputs": [],
   "source": []
  }
 ],
 "metadata": {
  "kernelspec": {
   "display_name": "Python 3 (ipykernel)",
   "language": "python",
   "name": "python3"
  },
  "language_info": {
   "codemirror_mode": {
    "name": "ipython",
    "version": 3
   },
   "file_extension": ".py",
   "mimetype": "text/x-python",
   "name": "python",
   "nbconvert_exporter": "python",
   "pygments_lexer": "ipython3",
   "version": "3.11.5"
  }
 },
 "nbformat": 4,
 "nbformat_minor": 5
}
