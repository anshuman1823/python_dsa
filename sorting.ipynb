{
 "cells": [
  {
   "cell_type": "markdown",
   "id": "0889c517",
   "metadata": {},
   "source": [
    "# 1. Selection Sort"
   ]
  },
  {
   "cell_type": "markdown",
   "id": "9272dc7b",
   "metadata": {},
   "source": [
    "Here, we will implement selection sort to sort a list in ascending order"
   ]
  },
  {
   "cell_type": "code",
   "execution_count": 6,
   "id": "11f46a42",
   "metadata": {},
   "outputs": [],
   "source": [
    "def sel_sort(l):\n",
    "    \"\"\"\n",
    "    Sort the list l in ascending order using selection sort in place\n",
    "    \"\"\"\n",
    "    for i in range(len(l)):\n",
    "        min_ = i\n",
    "        for j in range(i+1, len(l)):\n",
    "            if l[j] < l[min_]:\n",
    "                min_ = j\n",
    "        (l[i], l[min_]) = (l[min_], l[i])        "
   ]
  },
  {
   "cell_type": "markdown",
   "id": "71660b4e",
   "metadata": {},
   "source": [
    "Example:"
   ]
  },
  {
   "cell_type": "code",
   "execution_count": 19,
   "id": "d178d70b",
   "metadata": {},
   "outputs": [
    {
     "data": {
      "text/plain": [
       "[19, 14, 11, 4, 5]"
      ]
     },
     "execution_count": 19,
     "metadata": {},
     "output_type": "execute_result"
    }
   ],
   "source": [
    "import random\n",
    "a = [random.randint(0, 20) for i in range(5)]\n",
    "a"
   ]
  },
  {
   "cell_type": "code",
   "execution_count": 20,
   "id": "dd632d93",
   "metadata": {},
   "outputs": [],
   "source": [
    "sel_sort(a)"
   ]
  },
  {
   "cell_type": "code",
   "execution_count": 21,
   "id": "33c6ffe7",
   "metadata": {},
   "outputs": [
    {
     "data": {
      "text/plain": [
       "[4, 5, 11, 14, 19]"
      ]
     },
     "execution_count": 21,
     "metadata": {},
     "output_type": "execute_result"
    }
   ],
   "source": [
    "a"
   ]
  },
  {
   "cell_type": "markdown",
   "id": "9e551204",
   "metadata": {},
   "source": [
    "The time complexity of the selection sort algorithm is O(n2)."
   ]
  },
  {
   "cell_type": "markdown",
   "id": "a25f8fc1",
   "metadata": {},
   "source": [
    "# 2.0 Insertion Sort"
   ]
  },
  {
   "cell_type": "markdown",
   "id": "9aaea9a5",
   "metadata": {},
   "source": [
    "Here, we will implement insertion sort using iterative approach"
   ]
  },
  {
   "cell_type": "code",
   "execution_count": 23,
   "id": "82cd9cba",
   "metadata": {},
   "outputs": [],
   "source": [
    "def ins_sort(l):\n",
    "    \"\"\"\n",
    "    This function will implement the insertion sort algorithm to sort a list l in ascending order in place\n",
    "    \"\"\"\n",
    "    for i in range(len(l)-1):\n",
    "        pos = i + 1\n",
    "        while (l[pos] < l[pos - 1]) and (pos > 0):\n",
    "            (l[pos], l[pos-1]) = (l[pos-1], l[pos])\n",
    "            pos -= 1"
   ]
  },
  {
   "cell_type": "markdown",
   "id": "b4590f3e",
   "metadata": {},
   "source": [
    "This implementation of insertion sort has a time complexity of O(n2)."
   ]
  },
  {
   "cell_type": "markdown",
   "id": "3133f925",
   "metadata": {},
   "source": [
    "# 2.1 Recursion Insertion Sort"
   ]
  },
  {
   "cell_type": "markdown",
   "id": "2678fb44",
   "metadata": {},
   "source": [
    "Here, we will implement the recursion version of the insertion sort"
   ]
  },
  {
   "cell_type": "code",
   "execution_count": 64,
   "id": "83f6ec52",
   "metadata": {},
   "outputs": [],
   "source": [
    "def rec_ins_sort(l, start_ind, end_ind):\n",
    "    \"\"\"\n",
    "    This function will implement the recursion version of insertion sort to sort a list l in ascending order\n",
    "    in place\n",
    "    \"\"\"\n",
    "    \n",
    "    def insert(pos):\n",
    "        while (pos > 0) and (l[pos] < l[pos-1]):\n",
    "            (l[pos], l[pos-1]) = (l[pos-1], l[pos])\n",
    "            pos -= 1\n",
    "            \n",
    "    if (end_ind - start_ind) < 1:\n",
    "        return\n",
    "    \n",
    "    rec_ins_sort(l, start_ind, end_ind-1)\n",
    "    insert(end_ind)"
   ]
  },
  {
   "cell_type": "markdown",
   "id": "a03de5c4",
   "metadata": {},
   "source": [
    "The time complexity of this algorithm is also O(n2)."
   ]
  },
  {
   "cell_type": "markdown",
   "id": "271f5b76",
   "metadata": {},
   "source": [
    "Example:"
   ]
  },
  {
   "cell_type": "code",
   "execution_count": 69,
   "id": "1043bdc5",
   "metadata": {},
   "outputs": [],
   "source": [
    "a = [3,7,1,6,1,5,9,10,8,-1]\n",
    "rec_ins_sort(a, 0, len(a) - 1)"
   ]
  },
  {
   "cell_type": "code",
   "execution_count": 70,
   "id": "21fc02e8",
   "metadata": {},
   "outputs": [
    {
     "data": {
      "text/plain": [
       "[-1, 1, 1, 3, 5, 6, 7, 8, 9, 10]"
      ]
     },
     "execution_count": 70,
     "metadata": {},
     "output_type": "execute_result"
    }
   ],
   "source": [
    "a"
   ]
  },
  {
   "cell_type": "markdown",
   "id": "85a3953b",
   "metadata": {},
   "source": [
    "# 3. Merge Sort"
   ]
  },
  {
   "cell_type": "markdown",
   "id": "4ed00c6d",
   "metadata": {},
   "source": [
    "Here, we will implement merge sort to sort a python list in ascending order."
   ]
  },
  {
   "cell_type": "code",
   "execution_count": 98,
   "id": "79841340",
   "metadata": {},
   "outputs": [],
   "source": [
    "def merge_sort(l):\n",
    "    \"\"\"\n",
    "    Sort the list l in ascending order using merge sort algorithm.\n",
    "    \"\"\"\n",
    "    def merge(l1, l2):\n",
    "        print(l1,l2)\n",
    "        \"\"\"\n",
    "        This sub-function of the merge_sort algorithm merges two sorted lists.\n",
    "        \"\"\"\n",
    "        c = []\n",
    "        m, n = len(l1), len(l2)\n",
    "        (i, j) = (0, 0)\n",
    "        while (i + j) < (m + n - 1):\n",
    "            if (i+j < m+n-2) and (l1[i] < l2[j]):\n",
    "                c.append(l1[i])\n",
    "                i += 1\n",
    "            elif (i+j < m+n -2) and (l2[j] < l1[i]):\n",
    "                c.append(l2[j])\n",
    "                j += 1\n",
    "            elif i == m - 1:\n",
    "                c = c + l2[j:]\n",
    "                j = n\n",
    "            elif j == n - 1:\n",
    "                c = c + l1[i:]\n",
    "                i = m\n",
    "        return c\n",
    "    \n",
    "    if len(l) <= 1:\n",
    "        return l\n",
    "    mid = len(l)//2\n",
    "#     print(l[:mid],l[mid:])\n",
    "    return merge(merge_sort(l[:mid]), merge_sort(l[mid:]))"
   ]
  },
  {
   "cell_type": "code",
   "execution_count": 99,
   "id": "a3f6bd5d",
   "metadata": {},
   "outputs": [
    {
     "name": "stdout",
     "output_type": "stream",
     "text": [
      "[1] [5]\n",
      "[8] [0]\n",
      "[5] [0]\n",
      "[0]\n"
     ]
    }
   ],
   "source": [
    "a = [1,5,8,0]\n",
    "print(merge_sort(a))"
   ]
  },
  {
   "cell_type": "code",
   "execution_count": 100,
   "id": "267d2403",
   "metadata": {},
   "outputs": [
    {
     "data": {
      "text/plain": [
       "[1, 5, 8, 0]"
      ]
     },
     "execution_count": 100,
     "metadata": {},
     "output_type": "execute_result"
    }
   ],
   "source": [
    "a"
   ]
  },
  {
   "cell_type": "code",
   "execution_count": null,
   "id": "12d87df2",
   "metadata": {},
   "outputs": [],
   "source": []
  }
 ],
 "metadata": {
  "kernelspec": {
   "display_name": "Python 3 (ipykernel)",
   "language": "python",
   "name": "python3"
  },
  "language_info": {
   "codemirror_mode": {
    "name": "ipython",
    "version": 3
   },
   "file_extension": ".py",
   "mimetype": "text/x-python",
   "name": "python",
   "nbconvert_exporter": "python",
   "pygments_lexer": "ipython3",
   "version": "3.11.5"
  }
 },
 "nbformat": 4,
 "nbformat_minor": 5
}
