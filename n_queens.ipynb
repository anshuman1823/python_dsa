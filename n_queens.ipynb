{
 "cells": [
  {
   "cell_type": "code",
   "execution_count": 93,
   "id": "2a2d1680-1d56-494f-a565-7cf8d825a461",
   "metadata": {},
   "outputs": [],
   "source": [
    "def n_queens():\n",
    "    \"\"\"\n",
    "    Execute the n_queens program: This program gives all possible board configurations where `n` queens are \n",
    "    placed without attacking each other. It returns nothing when there are no such configurations possible.\n",
    "    \"\"\"\n",
    "    n = input(\"Enter n for n queens\")\n",
    "    \n",
    "    def initialize_board(n):\n",
    "        \"\"\"\n",
    "        This function initializes the board\n",
    "        \"\"\"\n",
    "        board = {}\n",
    "        board[\"queens\"] = {}\n",
    "        board[\"row\"] = {}\n",
    "        board[\"col\"] = {}\n",
    "        board[\"nw_se\"] = {}\n",
    "        board[\"ne_sw\"] = {}\n",
    "        for i in range(n):\n",
    "            board[\"queens\"][i] = -1\n",
    "            board[\"row\"][i] = 0\n",
    "            board[\"col\"][i] = 0\n",
    "        for i in range(-n+1,n,1):\n",
    "            board[\"nw_se\"][i] = 0\n",
    "        for i in range(0,2*n-1,1):\n",
    "            board[\"ne_sw\"][i] = 0\n",
    "        return board\n",
    "\n",
    "    def print_board(board):\n",
    "        \"\"\"\n",
    "        Prints the board\n",
    "        \"\"\"\n",
    "        n = len(board[\"queens\"].keys())\n",
    "        for i in range(n):\n",
    "            print(\"|\", end=\"\")\n",
    "            for j in range(n):\n",
    "                print(\"|\", end=\"\")\n",
    "                if board[\"queens\"][i] == j:\n",
    "                    print(\"Q\", end=\"\")\n",
    "                else:\n",
    "                    print(\" \", end=\"\")\n",
    "                print(\"|\", end=\"\")\n",
    "            print(\"|\")\n",
    "        print()\n",
    "\n",
    "    board = initialize_board(int(n))\n",
    "\n",
    "    def check_box(board, i, j):\n",
    "        \"\"\"\n",
    "        Checks whether column j in row i is attacked or not\n",
    "        \"\"\"\n",
    "        return(board[\"row\"][i] == board[\"col\"][j] == board[\"nw_se\"][i-j]  == board[\"ne_sw\"][i+j] == 0)\n",
    "\n",
    "    def update_board(board, i, j):\n",
    "        \"\"\"\n",
    "        Places the queen on jth column of ith row and updates the attack parameters\n",
    "        \"\"\"\n",
    "        board[\"queens\"][i] = j\n",
    "        board[\"row\"][i] = 1\n",
    "        board[\"col\"][j] = 1\n",
    "        board[\"nw_se\"][i-j] = 1\n",
    "        board[\"ne_sw\"][i+j] = 1\n",
    "        # print_board(board)\n",
    "\n",
    "    def undo_queen(board, i, j):\n",
    "        \"\"\"\n",
    "        Removes the queen from the jth column of ith row and updates the attack parameters\n",
    "        \"\"\"\n",
    "        board[\"queens\"][i] = -1\n",
    "        board[\"row\"][i] = 0\n",
    "        board[\"col\"][j] = 0\n",
    "        board[\"nw_se\"][i-j] = 0\n",
    "        board[\"ne_sw\"][i+j] = 0\n",
    "\n",
    "    def place_queens(i, board):\n",
    "        \"\"\"\n",
    "        This function is the main function and it places the queens on the board\n",
    "        \"\"\"\n",
    "        n = len(board[\"queens\"].keys())\n",
    "        \n",
    "        for j in range(n):\n",
    "            if check_box(board, i, j):\n",
    "                board[\"queens\"][i] = j\n",
    "                update_board(board,i,j)\n",
    "                if i == n-1:\n",
    "                    print_board(board)\n",
    "                    undo_queen(board, i, j)\n",
    "                    continue\n",
    "                if ~place_queens(i+1, board):\n",
    "                    undo_queen(board, i, j)\n",
    "        else:\n",
    "            return False\n",
    "        \n",
    "    place_queens(0, board)"
   ]
  },
  {
   "cell_type": "code",
   "execution_count": 94,
   "id": "f5b62392-b190-4d86-a5de-f61e7ab7de3d",
   "metadata": {},
   "outputs": [
    {
     "name": "stdin",
     "output_type": "stream",
     "text": [
      "Enter n for n queens 4\n"
     ]
    },
    {
     "name": "stdout",
     "output_type": "stream",
     "text": [
      "|| ||Q|| || ||\n",
      "|| || || ||Q||\n",
      "||Q|| || || ||\n",
      "|| || ||Q|| ||\n",
      "\n",
      "|| || ||Q|| ||\n",
      "||Q|| || || ||\n",
      "|| || || ||Q||\n",
      "|| ||Q|| || ||\n",
      "\n"
     ]
    }
   ],
   "source": [
    "n_queens()"
   ]
  },
  {
   "cell_type": "markdown",
   "id": "dc4c259a-063a-4722-a6a3-43b49d4bbcec",
   "metadata": {},
   "source": [
    "The n_queens algorithm is an example of Depth First Search!!"
   ]
  }
 ],
 "metadata": {
  "kernelspec": {
   "display_name": "Python 3 (ipykernel)",
   "language": "python",
   "name": "python3"
  },
  "language_info": {
   "codemirror_mode": {
    "name": "ipython",
    "version": 3
   },
   "file_extension": ".py",
   "mimetype": "text/x-python",
   "name": "python",
   "nbconvert_exporter": "python",
   "pygments_lexer": "ipython3",
   "version": "3.11.5"
  }
 },
 "nbformat": 4,
 "nbformat_minor": 5
}
