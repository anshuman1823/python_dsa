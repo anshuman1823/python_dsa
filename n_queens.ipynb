{
 "cells": [
  {
   "cell_type": "code",
   "execution_count": 15,
   "id": "9dbdf15e-0b0c-42b3-a4b7-2d4c20ef7c9c",
   "metadata": {},
   "outputs": [],
   "source": [
    "def n_queens():\n",
    "    \"\"\"\n",
    "    Execute the n_queens program: This program gives all possible board configurations where `n` queens are \n",
    "    placed without attacking each other. It returns nothing when there are no such configurations possible.\n",
    "    \"\"\"\n",
    "    n = input(\"Enter n for n queens\")\n",
    "    \n",
    "    def initialize_board(n):\n",
    "        \"\"\"\n",
    "        This function initializes the board\n",
    "        \"\"\"\n",
    "        board = {}\n",
    "        board[\"queens\"] = {}\n",
    "        board[\"row\"] = {}\n",
    "        board[\"col\"] = {}\n",
    "        board[\"nw_se\"] = {}\n",
    "        board[\"ne_sw\"] = {}\n",
    "        for i in range(n):\n",
    "            board[\"queens\"][i] = -1\n",
    "            board[\"row\"][i] = 0\n",
    "            board[\"col\"][i] = 0\n",
    "        for i in range(-n+1,n,1):\n",
    "            board[\"nw_se\"][i] = 0\n",
    "        for i in range(0,2*n-1,1):\n",
    "            board[\"ne_sw\"][i] = 0\n",
    "        return board\n",
    "\n",
    "    def print_board(board):\n",
    "        \"\"\"\n",
    "        Prints the board\n",
    "        \"\"\"\n",
    "        n = len(board[\"queens\"].keys())\n",
    "        for i in range(n):\n",
    "            for j in range(n):\n",
    "                print(\"|\", end=\"\")\n",
    "                if board[\"queens\"][i] == j:\n",
    "                    print(\"Q\", end=\"\")\n",
    "                else:\n",
    "                    print(\" \", end=\"\")\n",
    "                print(\"|\", end=\"\")\n",
    "            print()\n",
    "\n",
    "    board = initialize_board(int(n))\n",
    "\n",
    "    def check_box(board, i, j):\n",
    "        \"\"\"\n",
    "        Checks whether column j in row i is attacked or not\n",
    "        \"\"\"\n",
    "        return(board[\"row\"][i] == board[\"col\"][j] == board[\"nw_se\"][i-j]  == board[\"ne_sw\"][i+j] == 0)\n",
    "\n",
    "    def update_board(board, i, j):\n",
    "        \"\"\"\n",
    "        Places the queen on jth column of ith row and updates the attack parameters\n",
    "        \"\"\"\n",
    "        board[\"queens\"][i] = j\n",
    "        board[\"row\"][i] = 1\n",
    "        board[\"col\"][i] = 1\n",
    "        board[\"nw_se\"][i-j] = 1\n",
    "        board[\"ne_sw\"][i+j] = 1\n",
    "\n",
    "    def undo_queen(board, i, j):\n",
    "        \"\"\"\n",
    "        Removes the queen from the jth column of ith row and updates the attack parameters\n",
    "        \"\"\"\n",
    "        board[\"queens\"][i] = -1\n",
    "        board[\"row\"][i] = 0\n",
    "        board[\"col\"][i] = 0\n",
    "        board[\"nw_se\"][i-j] = 0\n",
    "        board[\"ne_sw\"][i+j] = 0\n",
    "\n",
    "    def place_queens(i, board):\n",
    "        \"\"\"\n",
    "        This function is the main function and it places the queens on the board\n",
    "        \"\"\"\n",
    "        n = len(board[\"queens\"].keys())\n",
    "        \n",
    "        for j in range(n):\n",
    "            if check_box(board, i, j):\n",
    "                board[\"queens\"][i] = j\n",
    "                update_board(board,i,j)\n",
    "                if i == n-1:\n",
    "                    return True\n",
    "                else:\n",
    "                    next = place_queens(i+1, board)\n",
    "                if next == False:\n",
    "                    undo_queen(board, i, j)\n",
    "        else:\n",
    "            return False\n",
    "        \n",
    "    place_queens(0, board)\n",
    "    print_board(board)"
   ]
  },
  {
   "cell_type": "code",
   "execution_count": 16,
   "id": "33ea1608-effe-444f-9a2e-b602c5a830ec",
   "metadata": {},
   "outputs": [
    {
     "name": "stdin",
     "output_type": "stream",
     "text": [
      "Enter n for n queens 4\n"
     ]
    },
    {
     "name": "stdout",
     "output_type": "stream",
     "text": [
      "| || || || |\n",
      "| || || || |\n",
      "| || || ||Q|\n",
      "| || || ||Q|\n"
     ]
    }
   ],
   "source": [
    "n_queens()"
   ]
  },
  {
   "cell_type": "code",
   "execution_count": null,
   "id": "16f2ec3f-e808-476f-b213-67558236f569",
   "metadata": {},
   "outputs": [],
   "source": []
  },
  {
   "cell_type": "code",
   "execution_count": null,
   "id": "bf951a71-8067-47eb-8dc2-7aeac96c13a2",
   "metadata": {},
   "outputs": [],
   "source": []
  },
  {
   "cell_type": "code",
   "execution_count": null,
   "id": "d51a26bb-3292-4761-aab3-fb12ce93c6c5",
   "metadata": {},
   "outputs": [],
   "source": []
  }
 ],
 "metadata": {
  "kernelspec": {
   "display_name": "Python 3 (ipykernel)",
   "language": "python",
   "name": "python3"
  },
  "language_info": {
   "codemirror_mode": {
    "name": "ipython",
    "version": 3
   },
   "file_extension": ".py",
   "mimetype": "text/x-python",
   "name": "python",
   "nbconvert_exporter": "python",
   "pygments_lexer": "ipython3",
   "version": "3.11.5"
  }
 },
 "nbformat": 4,
 "nbformat_minor": 5
}
